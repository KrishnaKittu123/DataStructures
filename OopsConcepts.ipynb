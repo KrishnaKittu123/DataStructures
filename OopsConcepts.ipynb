{
 "cells": [
  {
   "cell_type": "code",
   "execution_count": 11,
   "metadata": {
    "collapsed": false
   },
   "outputs": [
    {
     "name": "stdout",
     "output_type": "stream",
     "text": [
      "1000\n",
      "6000\n",
      "3000\n",
      "10000\n"
     ]
    },
    {
     "ename": "NameError",
     "evalue": "name 'IsInstance' is not defined",
     "output_type": "error",
     "traceback": [
      "\u001b[1;31m---------------------------------------------------------------------------\u001b[0m",
      "\u001b[1;31mNameError\u001b[0m                                 Traceback (most recent call last)",
      "\u001b[1;32m<ipython-input-11-a0d95bba77fd>\u001b[0m in \u001b[0;36m<module>\u001b[1;34m()\u001b[0m\n\u001b[0;32m     39\u001b[0m \u001b[0mprint\u001b[0m\u001b[1;33m(\u001b[0m\u001b[0macct2\u001b[0m\u001b[1;33m.\u001b[0m\u001b[0mbalance\u001b[0m\u001b[1;33m)\u001b[0m\u001b[1;33m\u001b[0m\u001b[0m\n\u001b[0;32m     40\u001b[0m \u001b[1;33m\u001b[0m\u001b[0m\n\u001b[1;32m---> 41\u001b[1;33m \u001b[0mprint\u001b[0m\u001b[1;33m(\u001b[0m\u001b[0mIsInstance\u001b[0m\u001b[1;33m(\u001b[0m\u001b[0macct2\u001b[0m\u001b[1;33m,\u001b[0m\u001b[0mBankAccount\u001b[0m\u001b[1;33m)\u001b[0m\u001b[1;33m)\u001b[0m\u001b[1;33m\u001b[0m\u001b[0m\n\u001b[0m\u001b[0;32m     42\u001b[0m \u001b[1;33m\u001b[0m\u001b[0m\n",
      "\u001b[1;31mNameError\u001b[0m: name 'IsInstance' is not defined"
     ]
    }
   ],
   "source": [
    "class BankAccount:\n",
    "    \n",
    "    def __init__(self,account_num,balance):\n",
    "        self.account_num = account_num\n",
    "        self.balance = balance;\n",
    "        \n",
    "    def check_balance(self):\n",
    "        return self.balance\n",
    "        \n",
    "    def withdraw(self,amount):\n",
    "        if self.balance > amount:\n",
    "            self.balance = self.balance - amount\n",
    "            \n",
    "    def deposit(self,dep_amount):\n",
    "        self.balance = self.balance+dep_amount\n",
    "        \n",
    "acct1 = BankAccount(1,1000)\n",
    "\n",
    "print(acct1.check_balance())\n",
    "\n",
    "acct1.deposit(10000)\n",
    "\n",
    "acct1.withdraw(5000)\n",
    "\n",
    "\n",
    "print(acct1.check_balance())\n",
    "\n",
    "\n",
    "class SavingsAccount(BankAccount):\n",
    "    pass\n",
    "\n",
    "\n",
    "acct2 = SavingsAccount(2,3000)\n",
    "\n",
    "print(acct2.check_balance())\n",
    "\n",
    "acct2.deposit(7000)\n",
    "\n",
    "print(acct2.balance)\n",
    "\n",
    "print(IsInstance(acct2,BankAccount))\n",
    "    \n",
    "\n"
   ]
  },
  {
   "cell_type": "code",
   "execution_count": null,
   "metadata": {
    "collapsed": true
   },
   "outputs": [],
   "source": []
  }
 ],
 "metadata": {
  "kernelspec": {
   "display_name": "Python [py36]",
   "language": "python",
   "name": "Python [py36]"
  },
  "language_info": {
   "codemirror_mode": {
    "name": "ipython",
    "version": 3
   },
   "file_extension": ".py",
   "mimetype": "text/x-python",
   "name": "python",
   "nbconvert_exporter": "python",
   "pygments_lexer": "ipython3",
   "version": "3.6.6"
  }
 },
 "nbformat": 4,
 "nbformat_minor": 0
}
